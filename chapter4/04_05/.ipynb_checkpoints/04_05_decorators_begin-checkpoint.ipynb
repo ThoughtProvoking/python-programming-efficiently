{
 "cells": [
  {
   "cell_type": "markdown",
   "metadata": {},
   "source": [
    "##### Decorator\n",
    "High order functions that accept functions and return another"
   ]
  },
  {
   "cell_type": "markdown",
   "metadata": {},
   "source": [
    "### Python module/package imports for this chapter"
   ]
  },
  {
   "cell_type": "code",
   "execution_count": 1,
   "metadata": {},
   "outputs": [],
   "source": [
    "import sys, os, math, random, functools\n",
    "\n",
    "import numpy as np\n",
    "\n",
    "import matplotlib\n",
    "import matplotlib.pyplot as pp\n",
    "import matplotlib.animation as anim\n",
    "\n",
    "%matplotlib inline\n",
    "\n",
    "from IPython.display import display, HTML"
   ]
  },
  {
   "cell_type": "markdown",
   "metadata": {
    "collapsed": true
   },
   "source": [
    "### Code from previous videos (enhanced)"
   ]
  },
  {
   "cell_type": "code",
   "execution_count": 2,
   "metadata": {},
   "outputs": [],
   "source": [
    "from turtle import Turtle, Terrarium"
   ]
  },
  {
   "cell_type": "markdown",
   "metadata": {},
   "source": [
    "## More functional Python"
   ]
  },
  {
   "cell_type": "code",
   "execution_count": 4,
   "metadata": {},
   "outputs": [],
   "source": [
    "def print_args(func):\n",
    "    def decorated(*args, **kwargs):\n",
    "        print(f\"Function {func.__name__} called with args = {args} and kwargs = {kwargs}\")\n",
    "        \n",
    "        return func(*args, **kwargs)\n",
    "    \n",
    "    return decorated"
   ]
  },
  {
   "cell_type": "code",
   "execution_count": 5,
   "metadata": {},
   "outputs": [],
   "source": [
    "@print_args\n",
    "def fibonacci(n):\n",
    "    \"\"\"Return the nth number in the Fibonacci sequence\"\"\"\n",
    "    \n",
    "    if n < 2:\n",
    "        return n\n",
    "    \n",
    "    return fibonacci(n - 1) + fibonacci(n - 2)"
   ]
  },
  {
   "cell_type": "code",
   "execution_count": 6,
   "metadata": {},
   "outputs": [
    {
     "name": "stdout",
     "output_type": "stream",
     "text": [
      "Function fibonacci called with args = (5,) and kwargs = {}\n",
      "Function fibonacci called with args = (4,) and kwargs = {}\n",
      "Function fibonacci called with args = (3,) and kwargs = {}\n",
      "Function fibonacci called with args = (2,) and kwargs = {}\n",
      "Function fibonacci called with args = (1,) and kwargs = {}\n",
      "Function fibonacci called with args = (0,) and kwargs = {}\n",
      "Function fibonacci called with args = (1,) and kwargs = {}\n",
      "Function fibonacci called with args = (2,) and kwargs = {}\n",
      "Function fibonacci called with args = (1,) and kwargs = {}\n",
      "Function fibonacci called with args = (0,) and kwargs = {}\n",
      "Function fibonacci called with args = (3,) and kwargs = {}\n",
      "Function fibonacci called with args = (2,) and kwargs = {}\n",
      "Function fibonacci called with args = (1,) and kwargs = {}\n",
      "Function fibonacci called with args = (0,) and kwargs = {}\n",
      "Function fibonacci called with args = (1,) and kwargs = {}\n"
     ]
    },
    {
     "data": {
      "text/plain": [
       "5"
      ]
     },
     "execution_count": 6,
     "metadata": {},
     "output_type": "execute_result"
    }
   ],
   "source": [
    "fibonacci(5)"
   ]
  },
  {
   "cell_type": "code",
   "execution_count": 18,
   "metadata": {},
   "outputs": [],
   "source": [
    "def print_args(func):\n",
    "    @functools.wraps(func)\n",
    "    def decorated(*args, **kwargs):\n",
    "        print(f\"Function {func.__name__} called with args = {args} and kwargs = {kwargs}\")\n",
    "        \n",
    "        return func(*args, **kwargs)\n",
    "    \n",
    "    return decorated\n",
    "\n",
    "@functools.lru_cache(maxsize = None)\n",
    "@print_args\n",
    "def fibonacci(n):\n",
    "    \"\"\"Return the nth number in the Fibonacci sequence\"\"\"\n",
    "    \n",
    "    if n < 2:\n",
    "        return n\n",
    "    \n",
    "    return fibonacci(n - 1) + fibonacci(n - 2)"
   ]
  },
  {
   "cell_type": "code",
   "execution_count": 12,
   "metadata": {},
   "outputs": [
    {
     "data": {
      "text/plain": [
       "<functools._lru_cache_wrapper at 0x7f87b096f410>"
      ]
     },
     "execution_count": 12,
     "metadata": {},
     "output_type": "execute_result"
    }
   ],
   "source": [
    "fibonacci"
   ]
  },
  {
   "cell_type": "code",
   "execution_count": 13,
   "metadata": {},
   "outputs": [
    {
     "name": "stdout",
     "output_type": "stream",
     "text": [
      "Help on _lru_cache_wrapper in module __main__:\n",
      "\n",
      "fibonacci(n)\n",
      "    Return the nth number in the Fibonacci sequence\n",
      "\n"
     ]
    }
   ],
   "source": [
    "help(fibonacci)"
   ]
  },
  {
   "cell_type": "code",
   "execution_count": 17,
   "metadata": {},
   "outputs": [
    {
     "name": "stdout",
     "output_type": "stream",
     "text": [
      "Function fibonacci called with args = (5,) and kwargs = {}\n",
      "Function fibonacci called with args = (4,) and kwargs = {}\n",
      "Function fibonacci called with args = (3,) and kwargs = {}\n",
      "Function fibonacci called with args = (2,) and kwargs = {}\n",
      "Function fibonacci called with args = (1,) and kwargs = {}\n",
      "Function fibonacci called with args = (0,) and kwargs = {}\n",
      "Function fibonacci called with args = (1,) and kwargs = {}\n",
      "Function fibonacci called with args = (2,) and kwargs = {}\n",
      "Function fibonacci called with args = (1,) and kwargs = {}\n",
      "Function fibonacci called with args = (0,) and kwargs = {}\n",
      "Function fibonacci called with args = (3,) and kwargs = {}\n",
      "Function fibonacci called with args = (2,) and kwargs = {}\n",
      "Function fibonacci called with args = (1,) and kwargs = {}\n",
      "Function fibonacci called with args = (0,) and kwargs = {}\n",
      "Function fibonacci called with args = (1,) and kwargs = {}\n"
     ]
    },
    {
     "data": {
      "text/plain": [
       "5"
      ]
     },
     "execution_count": 17,
     "metadata": {},
     "output_type": "execute_result"
    }
   ],
   "source": [
    "fibonacci(5)"
   ]
  },
  {
   "cell_type": "code",
   "execution_count": 19,
   "metadata": {},
   "outputs": [
    {
     "name": "stdout",
     "output_type": "stream",
     "text": [
      "Function fibonacci called with args = (5,) and kwargs = {}\n",
      "Function fibonacci called with args = (4,) and kwargs = {}\n",
      "Function fibonacci called with args = (3,) and kwargs = {}\n",
      "Function fibonacci called with args = (2,) and kwargs = {}\n",
      "Function fibonacci called with args = (1,) and kwargs = {}\n",
      "Function fibonacci called with args = (0,) and kwargs = {}\n"
     ]
    },
    {
     "data": {
      "text/plain": [
       "5"
      ]
     },
     "execution_count": 19,
     "metadata": {},
     "output_type": "execute_result"
    }
   ],
   "source": [
    "fibonacci(5) # after LRU caching"
   ]
  },
  {
   "cell_type": "code",
   "execution_count": 20,
   "metadata": {},
   "outputs": [
    {
     "data": {
      "text/plain": [
       "5"
      ]
     },
     "execution_count": 20,
     "metadata": {},
     "output_type": "execute_result"
    }
   ],
   "source": [
    "fibonacci(5) # after LRU caching"
   ]
  },
  {
   "cell_type": "code",
   "execution_count": 21,
   "metadata": {},
   "outputs": [
    {
     "name": "stdout",
     "output_type": "stream",
     "text": [
      "Function fibonacci called with args = (6,) and kwargs = {}\n",
      "Function fibonacci called with args = (7,) and kwargs = {}\n",
      "Function fibonacci called with args = (8,) and kwargs = {}\n",
      "Function fibonacci called with args = (9,) and kwargs = {}\n"
     ]
    },
    {
     "data": {
      "image/png": "[encoded data removed]",
      "text/plain": [
       "<Figure size 360x360 with 1 Axes>"
      ]
     },
     "metadata": {},
     "output_type": "display_data"
    }
   ],
   "source": [
    "def quarter_circle(t1, dist):\n",
    "    for a in range(90):\n",
    "        t1.forward(dist)\n",
    "        t1.left(1)\n",
    "        \n",
    "with Terrarium() as t:\n",
    "    t1 = Turtle(t)\n",
    "    \n",
    "    for dist in [fibonacci(i) for i in range(10)]:\n",
    "        quarter_circle(t1, dist)"
   ]
  },
  {
   "cell_type": "markdown",
   "metadata": {},
   "source": [
    "#### Map iterator\n",
    "Applies a function to all elements in an iterator and returns the new iterator"
   ]
  },
  {
   "cell_type": "code",
   "execution_count": 22,
   "metadata": {},
   "outputs": [
    {
     "name": "stdout",
     "output_type": "stream",
     "text": [
      "0\n",
      "2\n",
      "4\n",
      "6\n",
      "8\n"
     ]
    }
   ],
   "source": [
    "def twice(a):\n",
    "    return 2 * a\n",
    "\n",
    "for i in map(twice, range(5)):\n",
    "    print(i)"
   ]
  },
  {
   "cell_type": "markdown",
   "metadata": {},
   "source": [
    "#### Lambda\n",
    "anonymous throw-away function"
   ]
  },
  {
   "cell_type": "code",
   "execution_count": 23,
   "metadata": {},
   "outputs": [
    {
     "name": "stdout",
     "output_type": "stream",
     "text": [
      "0\n",
      "2\n",
      "4\n",
      "6\n",
      "8\n"
     ]
    }
   ],
   "source": [
    "for i in map(lambda a: 2 * a, range(5)):\n",
    "    print(i)"
   ]
  },
  {
   "cell_type": "code",
   "execution_count": 24,
   "metadata": {},
   "outputs": [
    {
     "data": {
      "image/png": "[encoded data removed]",
      "text/plain": [
       "<Figure size 360x360 with 1 Axes>"
      ]
     },
     "metadata": {},
     "output_type": "display_data"
    }
   ],
   "source": [
    "with Terrarium() as t:\n",
    "    t1 = Turtle(t)\n",
    "    \n",
    "    for dist in map(lambda x: x **2, map(fibonacci,range(10))):\n",
    "        quarter_circle(t1, dist)"
   ]
  },
  {
   "cell_type": "markdown",
   "metadata": {},
   "source": [
    "#### Filter\n",
    "Select elements in a sequence that satisfy a condition"
   ]
  },
  {
   "cell_type": "code",
   "execution_count": 25,
   "metadata": {},
   "outputs": [
    {
     "data": {
      "image/png": "[encoded data removed]",
      "text/plain": [
       "<Figure size 360x360 with 1 Axes>"
      ]
     },
     "metadata": {},
     "output_type": "display_data"
    }
   ],
   "source": [
    "with Terrarium() as t:\n",
    "    t1 = Turtle(t)\n",
    "    \n",
    "    for dist in filter(lambda x: x % 2 == 0, map(fibonacci,range(10))):\n",
    "        quarter_circle(t1, dist)"
   ]
  },
  {
   "cell_type": "markdown",
   "metadata": {},
   "source": [
    "#### Reduce\n",
    "Applies operation to first 2 elements then the resulting value to the rest"
   ]
  },
  {
   "cell_type": "code",
   "execution_count": 26,
   "metadata": {},
   "outputs": [
    {
     "data": {
      "text/plain": [
       "88"
      ]
     },
     "execution_count": 26,
     "metadata": {},
     "output_type": "execute_result"
    }
   ],
   "source": [
    "functools.reduce(lambda x, y: x + y, map(fibonacci, range(10)))"
   ]
  },
  {
   "cell_type": "code",
   "execution_count": 29,
   "metadata": {},
   "outputs": [
    {
     "data": {
      "text/plain": [
       "573147844013817084100"
      ]
     },
     "execution_count": 29,
     "metadata": {},
     "output_type": "execute_result"
    }
   ],
   "source": [
    "sum(map(fibonacci, range(100)))"
   ]
  },
  {
   "cell_type": "code",
   "execution_count": null,
   "metadata": {},
   "outputs": [],
   "source": []
  }
 ],
 "metadata": {
  "anaconda-cloud": {},
  "kernelspec": {
   "display_name": "Python 3",
   "language": "python",
   "name": "python3"
  },
  "language_info": {
   "codemirror_mode": {
    "name": "ipython",
    "version": 3
   },
   "file_extension": ".py",
   "mimetype": "text/x-python",
   "name": "python",
   "nbconvert_exporter": "python",
   "pygments_lexer": "ipython3",
   "version": "3.7.7"
  }
 },
 "nbformat": 4,
 "nbformat_minor": 1
}
