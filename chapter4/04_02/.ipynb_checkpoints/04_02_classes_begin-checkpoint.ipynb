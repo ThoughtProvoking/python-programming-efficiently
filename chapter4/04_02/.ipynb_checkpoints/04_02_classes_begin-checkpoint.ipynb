{
 "cells": [
  {
   "cell_type": "markdown",
   "metadata": {},
   "source": [
    "##### Procedural\n",
    "* List of instructions and steps that computer must follow\n",
    "* Languages: C, Basic, assembly, shell scripts and Python\n",
    "\n",
    "##### Object-oriented\n",
    "* Write code to manipulate a collection of objects\n",
    "* Objects have state (they hold data members) and behaviors (they have methods that can be called)\n",
    "* Languages: Java, Smalltalk (heavily), C++ and python\n",
    "\n",
    "##### Functional\n",
    "* Formulate program through flow of data between functions\n",
    "* Functions are more important that objects\n",
    "* Languages: haskell, ml (heavily), python\n",
    "\n",
    "##### Declarative\n",
    "* Specify the problem and the language will figure out how to solve it\n",
    "* Languages: SQL, Prolog (AI applications)"
   ]
  },
  {
   "cell_type": "markdown",
   "metadata": {},
   "source": [
    "### Python module/package imports for this chapter"
   ]
  },
  {
   "cell_type": "code",
   "execution_count": 55,
   "metadata": {},
   "outputs": [],
   "source": [
    "import sys, os, math, random, functools\n",
    "\n",
    "import numpy as np\n",
    "\n",
    "import matplotlib\n",
    "import matplotlib.pyplot as pp\n",
    "import matplotlib.animation as anim\n",
    "\n",
    "%matplotlib inline\n",
    "\n",
    "from IPython.display import display, HTML"
   ]
  },
  {
   "cell_type": "markdown",
   "metadata": {
    "collapsed": true
   },
   "source": [
    "## Making Python classes"
   ]
  },
  {
   "cell_type": "code",
   "execution_count": 56,
   "metadata": {},
   "outputs": [],
   "source": [
    "class Turtle(object):\n",
    "    deg = math.pi / 180.0\n",
    "    \n",
    "    def __init__(self, terrarium):\n",
    "        self.pos = (0, 0)\n",
    "        self.angle = 0\n",
    "        self.pen = True\n",
    "        \n",
    "        self.axes = terrarium.axes\n",
    "    \n",
    "    def forward(self, distance):\n",
    "        new_pos = (self.pos[0] + distance * math.cos(self.deg * self.angle),\n",
    "                   self.pos[1] + distance * math.sin(self.deg * self.angle))\n",
    "        \n",
    "        if self.pen:\n",
    "            line = pp.Line2D((self.pos[0], new_pos[0]), (self.pos[1], new_pos[1]))\n",
    "            self.axes.add_line(line)\n",
    "        \n",
    "        self.pos = new_pos\n",
    "        \n",
    "    def back(self, distance):\n",
    "        self.forward(-distance)\n",
    "    \n",
    "    def left(self, angle):\n",
    "        self.angle = (self.angle + angle) % 360\n",
    "    \n",
    "    def right(self, angle):\n",
    "        self.angle = (self.angle - angle) % 360\n",
    "    \n",
    "    def pen_up(self):\n",
    "        self.pen = False\n",
    "    \n",
    "    def pen_down(self):\n",
    "        self.pen = True"
   ]
  },
  {
   "cell_type": "code",
   "execution_count": 57,
   "metadata": {},
   "outputs": [
    {
     "data": {
      "text/plain": [
       "[-0.07200000000000001, 1.072, 0.2155, 0.5345]"
      ]
     },
     "execution_count": 57,
     "metadata": {},
     "output_type": "execute_result"
    },
    {
     "data": {
      "image/png": "[encoded data removed]",
      "text/plain": [
       "<Figure size 216x216 with 1 Axes>"
      ]
     },
     "metadata": {},
     "output_type": "display_data"
    }
   ],
   "source": [
    "fig = pp.figure(figsize = (3, 3))\n",
    "axes = pp.axes()\n",
    "\n",
    "line = pp.Line2D((0, 1), (0.5, 0.25))\n",
    "axes.add_line(line)\n",
    "\n",
    "axes.set_xticks([])\n",
    "axes.set_yticks([])\n",
    "\n",
    "for spine in ['bottom', 'top', 'left', 'right']:\n",
    "    axes.spines[spine].set_color('0.9')\n",
    "    \n",
    "axes.axis('scaled')\n",
    "\n",
    "xmin, xmax, ymin, ymax = axes.axis()\n",
    "dx = (xmax - xmin) / 50\n",
    "axes.axis([xmin - dx, xmax + dx, ymin - dx, ymax + dx])"
   ]
  },
  {
   "cell_type": "code",
   "execution_count": 58,
   "metadata": {},
   "outputs": [],
   "source": [
    "class Terrarium(object):\n",
    "    def __init__(self):\n",
    "        self.fig = pp.figure(figsize = (3, 3))\n",
    "        self.axes = pp.axes()\n",
    "\n",
    "        self.axes.set_xticks([])\n",
    "        self.axes.set_yticks([])\n",
    "\n",
    "        for spine in ['bottom', 'top', 'left', 'right']:\n",
    "            axes.spines[spine].set_color('0.9')\n",
    "\n",
    "    def rescale(self):\n",
    "        self.axes.axis('scaled')\n",
    "\n",
    "        xmin, xmax, ymin, ymax = self.axes.axis()\n",
    "        dx = (xmax - xmin) / 50\n",
    "        self.axes.axis([xmin - dx, xmax + dx, ymin - dx, ymax + dx])"
   ]
  },
  {
   "cell_type": "code",
   "execution_count": 59,
   "metadata": {},
   "outputs": [
    {
     "data": {
      "image/png": "[encoded data removed]",
      "text/plain": [
       "<Figure size 216x216 with 1 Axes>"
      ]
     },
     "metadata": {},
     "output_type": "display_data"
    }
   ],
   "source": [
    "t = Terrarium()\n",
    "\n",
    "t1 = Turtle(t)\n",
    "\n",
    "t1.forward(100)\n",
    "t1.left(90)\n",
    "t1.forward(150)\n",
    "t1.right(45)\n",
    "t1.back(100)\n",
    "\n",
    "t.rescale()"
   ]
  },
  {
   "cell_type": "code",
   "execution_count": null,
   "metadata": {},
   "outputs": [],
   "source": []
  }
 ],
 "metadata": {
  "anaconda-cloud": {},
  "kernelspec": {
   "display_name": "Python 3",
   "language": "python",
   "name": "python3"
  },
  "language_info": {
   "codemirror_mode": {
    "name": "ipython",
    "version": 3
   },
   "file_extension": ".py",
   "mimetype": "text/x-python",
   "name": "python",
   "nbconvert_exporter": "python",
   "pygments_lexer": "ipython3",
   "version": "3.7.7"
  }
 },
 "nbformat": 4,
 "nbformat_minor": 1
}
