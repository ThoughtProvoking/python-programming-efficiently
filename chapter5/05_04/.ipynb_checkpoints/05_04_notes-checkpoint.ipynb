{
 "cells": [
  {
   "cell_type": "markdown",
   "metadata": {},
   "source": [
    "### List complexity\n",
    "Append to end\n",
    "- O(1), except when list is full which allocates spaces for a larger list and then copies the current list over\n",
    "\n",
    "Insert at beginning\n",
    "- O(n), elements are shifted\n",
    "- Better to use **collections.deque**\n",
    "\n",
    "Slice of list\n",
    "- O(k), where k == size of slice; requires making a copy\n",
    "- For numpy, slice is restricted view of same memory; almost no usage\n",
    "\n",
    "### Dict\n",
    "Get and set\n",
    "- O(1), but memory usage is high"
   ]
  },
  {
   "cell_type": "code",
   "execution_count": null,
   "metadata": {},
   "outputs": [],
   "source": []
  }
 ],
 "metadata": {
  "kernelspec": {
   "display_name": "Python 3",
   "language": "python",
   "name": "python3"
  },
  "language_info": {
   "codemirror_mode": {
    "name": "ipython",
    "version": 3
   },
   "file_extension": ".py",
   "mimetype": "text/x-python",
   "name": "python",
   "nbconvert_exporter": "python",
   "pygments_lexer": "ipython3",
   "version": "3.7.7"
  }
 },
 "nbformat": 4,
 "nbformat_minor": 4
}
