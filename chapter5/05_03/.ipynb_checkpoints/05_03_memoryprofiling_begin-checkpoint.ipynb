{
 "cells": [
  {
   "cell_type": "markdown",
   "metadata": {},
   "source": [
    "### Python module/package imports for this chapter"
   ]
  },
  {
   "cell_type": "code",
   "execution_count": 1,
   "metadata": {},
   "outputs": [],
   "source": [
    "import sys, math, collections, itertools, multiprocessing, gzip"
   ]
  },
  {
   "cell_type": "code",
   "execution_count": 2,
   "metadata": {},
   "outputs": [],
   "source": [
    "import numpy as np\n",
    "\n",
    "import matplotlib\n",
    "import matplotlib.pyplot as pp\n",
    "\n",
    "%matplotlib inline"
   ]
  },
  {
   "cell_type": "code",
   "execution_count": 3,
   "metadata": {},
   "outputs": [],
   "source": [
    "%load_ext line_profiler\n",
    "%load_ext memory_profiler"
   ]
  },
  {
   "cell_type": "markdown",
   "metadata": {},
   "source": [
    "## Profiling memory\n",
    "##### Python List vs Numpy Array\n",
    "Python List\n",
    "- implemented with dynamic arrays\n",
    "- consecutively stored pointers referring to Python objects stored elsewhere\n",
    "- Python float is actually an object (24 bytes + 8 byte pointer)\n",
    "\n",
    "Numpy Array\n",
    "- contiguous region of memory where all of the objects (same-type) are stored together; a float == a float (only 8 bytes)"
   ]
  },
  {
   "cell_type": "code",
   "execution_count": 4,
   "metadata": {},
   "outputs": [],
   "source": [
    "vector_list = [float(i) for i in range(100000)]"
   ]
  },
  {
   "cell_type": "code",
   "execution_count": 5,
   "metadata": {},
   "outputs": [],
   "source": [
    "vector_np = np.arange(0, 100000, dtype = 'd')"
   ]
  },
  {
   "cell_type": "code",
   "execution_count": 9,
   "metadata": {},
   "outputs": [
    {
     "name": "stdout",
     "output_type": "stream",
     "text": [
      "Overwriting memory.py\n"
     ]
    }
   ],
   "source": [
    "%%file memory.py\n",
    "\n",
    "import numpy as np\n",
    "\n",
    "@profile\n",
    "def allocate():\n",
    "    vector_list = [float(i) for i in range(100000)]\n",
    "    vector_np = np.arange(0, 100000, dtype = 'd')\n",
    "    \n",
    "allocate()"
   ]
  },
  {
   "cell_type": "code",
   "execution_count": 11,
   "metadata": {},
   "outputs": [
    {
     "name": "stdout",
     "output_type": "stream",
     "text": [
      "Filename: memory.py\r\n",
      "\r\n",
      "Line #    Mem usage    Increment   Line Contents\r\n",
      "================================================\r\n",
      "     4   53.031 MiB   53.031 MiB   @profile\r\n",
      "     5                             def allocate():\r\n",
      "     6   56.855 MiB    0.016 MiB       vector_list = [float(i) for i in range(100000)]\r\n",
      "     7   57.625 MiB    0.770 MiB       vector_np = np.arange(0, 100000, dtype = 'd')\r\n",
      "\r\n",
      "\r\n"
     ]
    }
   ],
   "source": [
    "!python -m memory_profiler memory.py\n",
    "\n",
    "# Numpy array is not winning anymore after Python 3.7"
   ]
  },
  {
   "cell_type": "code",
   "execution_count": 29,
   "metadata": {},
   "outputs": [
    {
     "name": "stdout",
     "output_type": "stream",
     "text": [
      "Overwriting memory2.py\n"
     ]
    }
   ],
   "source": [
    "%%file memory2.py\n",
    "\n",
    "import numpy as np, collections\n",
    "\n",
    "@profile\n",
    "def allocate():\n",
    "    # 1\n",
    "    dict_list = [{'x': 1.0 * i, 'y': 2.5 * i} for i in range(100000)]\n",
    "    \n",
    "    # 2\n",
    "    class xy_class(object):\n",
    "        def __init__(self, x, y):\n",
    "            self.x, self.y = x, y\n",
    "\n",
    "    class_list = [xy_class(1.0 * i, 2.5 * i) for i in range(100000)]\n",
    "    \n",
    "    # 3\n",
    "    class xy_slots(object):\n",
    "        __slots__ = ['x', 'y']\n",
    "\n",
    "        def __init__(self, x, y):\n",
    "            self.x, self.y = x, y\n",
    "        \n",
    "    slots_list = [xy_slots(1.0 * i, 2.5 * i) for i in range(100000)]\n",
    "    \n",
    "    # 4\n",
    "    xy_namedtuple = collections.namedtuple('xy', ['x', 'y'])\n",
    "    namedtuple_list = [xy_namedtuple(1.0 * i, 2.5 * i) for i in range(100000)]\n",
    "    \n",
    "    # 5\n",
    "    tuple_list = [(1.0 * i, 2.5 * i) for i in range(100000)]\n",
    "    \n",
    "    # 6\n",
    "    list_list = [[1.0 * i, 2.5 * i] for i in range(100000)]\n",
    "    \n",
    "    # 7\n",
    "    record_np = np.fromiter(((1.0 * i, 2.5 * i) for i in range(100000)),\n",
    "                       dtype = [('x', 'd'), ('y', 'd')])\n",
    "    \n",
    "allocate()"
   ]
  },
  {
   "cell_type": "code",
   "execution_count": 30,
   "metadata": {},
   "outputs": [
    {
     "name": "stdout",
     "output_type": "stream",
     "text": [
      "Filename: memory2.py\r\n",
      "\r\n",
      "Line #    Mem usage    Increment   Line Contents\r\n",
      "================================================\r\n",
      "     4   53.039 MiB   53.039 MiB   @profile\r\n",
      "     5                             def allocate():\r\n",
      "     6                                 # 1\r\n",
      "     7   84.652 MiB    0.016 MiB       dict_list = [{'x': 1.0 * i, 'y': 2.5 * i} for i in range(100000)]\r\n",
      "     8                                 \r\n",
      "     9                                 # 2\r\n",
      "    10   84.656 MiB    0.004 MiB       class xy_class(object):\r\n",
      "    11  111.273 MiB    0.023 MiB           def __init__(self, x, y):\r\n",
      "    12  111.273 MiB    0.008 MiB               self.x, self.y = x, y\r\n",
      "    13                             \r\n",
      "    14  111.273 MiB    0.699 MiB       class_list = [xy_class(1.0 * i, 2.5 * i) for i in range(100000)]\r\n",
      "    15                                 \r\n",
      "    16                                 # 3\r\n",
      "    17  111.273 MiB    0.000 MiB       class xy_slots(object):\r\n",
      "    18  111.273 MiB    0.000 MiB           __slots__ = ['x', 'y']\r\n",
      "    19                             \r\n",
      "    20  124.438 MiB    0.004 MiB           def __init__(self, x, y):\r\n",
      "    21  124.438 MiB    0.004 MiB               self.x, self.y = x, y\r\n",
      "    22                                     \r\n",
      "    23  124.438 MiB    0.699 MiB       slots_list = [xy_slots(1.0 * i, 2.5 * i) for i in range(100000)]\r\n",
      "    24                                 \r\n",
      "    25                                 # 4\r\n",
      "    26  124.449 MiB    0.012 MiB       xy_namedtuple = collections.namedtuple('xy', ['x', 'y'])\r\n",
      "    27  139.223 MiB    0.699 MiB       namedtuple_list = [xy_namedtuple(1.0 * i, 2.5 * i) for i in range(100000)]\r\n",
      "    28                                 \r\n",
      "    29                                 # 5\r\n",
      "    30  154.004 MiB    0.699 MiB       tuple_list = [(1.0 * i, 2.5 * i) for i in range(100000)]\r\n",
      "    31                                 \r\n",
      "    32                                 # 6\r\n",
      "    33  170.328 MiB    0.699 MiB       list_list = [[1.0 * i, 2.5 * i] for i in range(100000)]\r\n",
      "    34                                 \r\n",
      "    35                                 # 7\r\n",
      "    36  171.859 MiB    0.898 MiB       record_np = np.fromiter(((1.0 * i, 2.5 * i) for i in range(100000)),\r\n",
      "    37  171.859 MiB    0.000 MiB                          dtype = [('x', 'd'), ('y', 'd')])\r\n",
      "\r\n",
      "\r\n"
     ]
    }
   ],
   "source": [
    "!python -m memory_profiler memory2.py\n",
    "\n",
    "# Numpy array is not winning anymore after Python 3.7"
   ]
  },
  {
   "cell_type": "code",
   "execution_count": null,
   "metadata": {},
   "outputs": [],
   "source": []
  }
 ],
 "metadata": {
  "anaconda-cloud": {},
  "kernelspec": {
   "display_name": "Python 3",
   "language": "python",
   "name": "python3"
  },
  "language_info": {
   "codemirror_mode": {
    "name": "ipython",
    "version": 3
   },
   "file_extension": ".py",
   "mimetype": "text/x-python",
   "name": "python",
   "nbconvert_exporter": "python",
   "pygments_lexer": "ipython3",
   "version": "3.7.7"
  }
 },
 "nbformat": 4,
 "nbformat_minor": 1
}
