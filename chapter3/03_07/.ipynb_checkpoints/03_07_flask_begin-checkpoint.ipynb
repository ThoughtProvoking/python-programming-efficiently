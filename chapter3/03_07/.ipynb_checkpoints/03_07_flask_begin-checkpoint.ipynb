{
 "cells": [
  {
   "cell_type": "markdown",
   "metadata": {},
   "source": [
    "### Python module/package imports for this chapter"
   ]
  },
  {
   "cell_type": "code",
   "execution_count": 6,
   "metadata": {},
   "outputs": [],
   "source": [
    "import os, sys, collections, re, json, io, base64"
   ]
  },
  {
   "cell_type": "code",
   "execution_count": 7,
   "metadata": {},
   "outputs": [],
   "source": [
    "import numpy as np\n",
    "\n",
    "import matplotlib\n",
    "import matplotlib.pyplot as pp\n",
    "import matplotlib.animation as anim\n",
    "from mpl_toolkits.basemap import Basemap\n",
    "\n",
    "%matplotlib inline"
   ]
  },
  {
   "cell_type": "code",
   "execution_count": 8,
   "metadata": {},
   "outputs": [],
   "source": [
    "import requests\n",
    "import bs4      # BeautifulSoup 4"
   ]
  },
  {
   "cell_type": "code",
   "execution_count": 9,
   "metadata": {},
   "outputs": [],
   "source": [
    "import IPython.display\n",
    "import PIL, PIL.Image, PIL.ImageOps, PIL.ImageEnhance  # Python Imaging Library - now \"pillow\""
   ]
  },
  {
   "cell_type": "markdown",
   "metadata": {},
   "source": [
    "### Stereograph-making Python module, with code taken from previous videos"
   ]
  },
  {
   "cell_type": "code",
   "execution_count": 10,
   "metadata": {},
   "outputs": [
    {
     "name": "stdout",
     "output_type": "stream",
     "text": [
      "Overwriting stereo.py\n"
     ]
    }
   ],
   "source": [
    "%%file stereo.py\n",
    "\n",
    "import os, sys, re, io, base64\n",
    "import requests, bs4\n",
    "import PIL, PIL.Image, PIL.ImageOps, PIL.ImageEnhance\n",
    "\n",
    "def getday(day):\n",
    "    \"\"\"Load the webpage collecting Curiosity Front Hazard Cam\n",
    "    images for Sol day, and yield a sequence of URLs for (left,right) pairs.\n",
    "    Before loading, see if the webpage is available in a local cache.\"\"\"\n",
    "    \n",
    "    cached = os.path.join('..','03_05','images',str(day) + '.html')\n",
    "    try:\n",
    "        text = open(cached,'r').read()\n",
    "    except FileNotFoundError:\n",
    "        daypage = requests.get('http://mars.nasa.gov/msl/multimedia/raw',\n",
    "                               params={'s': day,'camera': 'FHAZ'})\n",
    "        text = daypage.text\n",
    "    \n",
    "    soup = bs4.BeautifulSoup(text,'lxml')\n",
    "    srcs = ['http://mars.jpl.nasa.gov' + img['src'] for img in soup.find_all('img') if 'Image' in img['alt']]\n",
    "    \n",
    "    # drop the smaller thumbnail duplicates\n",
    "    srcs = srcs[:int(len(srcs)/2)]\n",
    "\n",
    "    # modify URLs to high-resolution images\n",
    "    srcs = [re.sub('-thm','',src) for src in srcs]\n",
    "    \n",
    "    print(\"Found {} images for day {}...\".format(len(srcs),day))\n",
    "\n",
    "    # iterate over nonoverlapping pairs in the list:\n",
    "    # 0,2,4,... and 1,3,5,...\n",
    "    for one, two in zip(srcs[::2],srcs[1::2]):\n",
    "        # we may get the left/right in the wrong order, so check the URLs\n",
    "        left, right = (one, two) if 'FLB' in one else (two, one)\n",
    "        \n",
    "    yield left, right\n",
    "\n",
    "def getimage(url):\n",
    "    \"\"\"Load a Curiosity image from url, resize it and dewarp it.\n",
    "    However, first see if the image is available in a local cache.\"\"\"\n",
    "    \n",
    "    # big = re.sub('-thm','',url)\n",
    "\n",
    "    cached = os.path.join('..','03_05','images',os.path.basename(url))\n",
    "    try:\n",
    "        content = open(cached,'rb').read()\n",
    "    except FileNotFoundError:\n",
    "        content = requests.get(url).content\n",
    "    \n",
    "    img = PIL.Image.open(io.BytesIO(content))\n",
    "    \n",
    "    resized = img.resize((400,400))\n",
    "    dewarped = img.transform((400,300),\n",
    "                             PIL.Image.QUAD,data=(0,0,100,400,300,400,400,0),\n",
    "                             resample=0,fill=1)\n",
    "    \n",
    "    return dewarped\n",
    "\n",
    "def blend(left,right):\n",
    "    \"\"\"Colorize and blend left and right Curiosity images.\"\"\"\n",
    "    \n",
    "    blend = PIL.Image.blend(PIL.ImageOps.colorize(left,(0,0,0),(255,0,0)),\n",
    "                            PIL.ImageOps.colorize(right,(0,0,0),(0,255,255)),0.5)\n",
    "    \n",
    "    enhanced = PIL.ImageEnhance.Brightness(blend)\n",
    "    \n",
    "    return enhanced.enhance(1.75)"
   ]
  },
  {
   "cell_type": "markdown",
   "metadata": {},
   "source": [
    "## Making a webserver offering stereoscopic Mars images\n",
    "\n",
    "### NASA LINK DOES NOT WORK"
   ]
  },
  {
   "cell_type": "code",
   "execution_count": 11,
   "metadata": {},
   "outputs": [
    {
     "name": "stdout",
     "output_type": "stream",
     "text": [
      "Overwriting server.py\n"
     ]
    }
   ],
   "source": [
    "%%file server.py\n",
    "\n",
    "import flask\n",
    "\n",
    "app = flask.Flask(__name__)\n",
    "\n",
    "@app.route('/')\n",
    "def hello_world():\n",
    "    return flask.Response('<html><body><p>Hello, world!</p></body></html>')\n",
    "\n",
    "app.run(host = '127.0.0.1')"
   ]
  },
  {
   "cell_type": "code",
   "execution_count": 20,
   "metadata": {},
   "outputs": [
    {
     "name": "stdout",
     "output_type": "stream",
     "text": [
      "Overwriting server.py\n"
     ]
    }
   ],
   "source": [
    "%%file server.py\n",
    "\n",
    "import flask, jinja2, io, base64\n",
    "\n",
    "app = flask.Flask(__name__)\n",
    "\n",
    "template = jinja2.Template(\"\"\"\n",
    "<html>\n",
    "  <body>\n",
    "    <img src=\"{{imgdata}}\" />\n",
    "  </body>\n",
    "</html>\n",
    "\"\"\")\n",
    "\n",
    "def make_img_data(img):\n",
    "    buffer = io.BytesIO()\n",
    "    img.save(buffer, format = 'PNG')\n",
    "    return base64.b64encode(buffer.getvalue()).decode('ascii')\n",
    "\n",
    "@app.route('/<sol>')\n",
    "def get_sol(sol):\n",
    "    html = template(imgdata = '')\n",
    "    return flask.Response(html)\n",
    "\n",
    "@app.route('/')\n",
    "def hello_world():\n",
    "    return flask.Response('<html><body><p>Hello, world!</p></body></html>')\n",
    "\n",
    "app.run(host = '127.0.0.1')"
   ]
  },
  {
   "cell_type": "code",
   "execution_count": 13,
   "metadata": {},
   "outputs": [],
   "source": [
    "img = PIL.Image.open('../03_06/gale_themis_vis_fix_v4_reduced.png')"
   ]
  },
  {
   "cell_type": "code",
   "execution_count": 17,
   "metadata": {},
   "outputs": [],
   "source": [
    "def make_img_data(img):\n",
    "    buffer = io.BytesIO()\n",
    "    img.save(buffer, format = 'PNG')\n",
    "    return base64.b64encode(buffer.getvalue()).decode('ascii')"
   ]
  },
  {
   "cell_type": "code",
   "execution_count": 18,
   "metadata": {},
   "outputs": [],
   "source": [
    "b64 = makeimgdata(img)"
   ]
  },
  {
   "cell_type": "code",
   "execution_count": 19,
   "metadata": {},
   "outputs": [
    {
     "data": {
      "text/plain": [
       "3821952"
      ]
     },
     "execution_count": 19,
     "metadata": {},
     "output_type": "execute_result"
    }
   ],
   "source": [
    "len(b64)"
   ]
  },
  {
   "cell_type": "markdown",
   "metadata": {},
   "source": [
    "### Not working because NASA link does not work anymore"
   ]
  },
  {
   "cell_type": "code",
   "execution_count": 25,
   "metadata": {},
   "outputs": [
    {
     "name": "stdout",
     "output_type": "stream",
     "text": [
      "Overwriting server.py\n"
     ]
    }
   ],
   "source": [
    "%%file server.py\n",
    "\n",
    "import flask, jinja2, io, base64\n",
    "import stereo\n",
    "\n",
    "app = flask.Flask(__name__)\n",
    "\n",
    "template = jinja2.Template(\"\"\"\n",
    "<html>\n",
    "  <body>\n",
    "    <img src=\"{{imgdata}}\" />\n",
    "  </body>\n",
    "</html>\n",
    "\"\"\")\n",
    "\n",
    "def make_img_data(img):\n",
    "    buffer = io.BytesIO()\n",
    "    img.save(buffer, format = 'PNG')\n",
    "    return base64.b64encode(buffer.getvalue()).decode('ascii')\n",
    "\n",
    "@app.route('/<sol>')\n",
    "def get_sol(sol):\n",
    "    left, right = stereo.getday(sol).__next__()\n",
    "    img = stereo.blend(stereo.getimage(left), stereo.getimage(right))\n",
    "    \n",
    "    html = template.render(imgdata = make_img_data(img))\n",
    "    return flask.Response(html)\n",
    "\n",
    "@app.route('/')\n",
    "def hello_world():\n",
    "    return flask.Response('<html><body><p>Hello, world!</p></body></html>')\n",
    "\n",
    "app.run(host = '127.0.0.1')"
   ]
  },
  {
   "cell_type": "code",
   "execution_count": null,
   "metadata": {},
   "outputs": [],
   "source": []
  }
 ],
 "metadata": {
  "anaconda-cloud": {},
  "kernelspec": {
   "display_name": "Python 3",
   "language": "python",
   "name": "python3"
  },
  "language_info": {
   "codemirror_mode": {
    "name": "ipython",
    "version": 3
   },
   "file_extension": ".py",
   "mimetype": "text/x-python",
   "name": "python",
   "nbconvert_exporter": "python",
   "pygments_lexer": "ipython3",
   "version": "3.7.7"
  },
  "toc": {
   "base_numbering": 1,
   "nav_menu": {},
   "number_sections": true,
   "sideBar": true,
   "skip_h1_title": false,
   "title_cell": "Table of Contents",
   "title_sidebar": "Contents",
   "toc_cell": false,
   "toc_position": {},
   "toc_section_display": true,
   "toc_window_display": false
  }
 },
 "nbformat": 4,
 "nbformat_minor": 1
}
